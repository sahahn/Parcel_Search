{
 "cells": [
  {
   "cell_type": "markdown",
   "metadata": {},
   "source": [
    "Establish baseline predictive performance for a number of existing surface parcellations. Makes use of ABCD_ML and the VACC_EXT libraries fairly extensively."
   ]
  },
  {
   "cell_type": "code",
   "execution_count": null,
   "metadata": {},
   "outputs": [],
   "source": [
    "from util import get_s_data, eval_full_parcel\n",
    "from Individual import Existing_Surf_Individual\n",
    "from VACC_EXT import connect"
   ]
  },
  {
   "cell_type": "code",
   "execution_count": null,
   "metadata": {},
   "outputs": [],
   "source": [
    "VE = connect()"
   ]
  },
  {
   "cell_type": "markdown",
   "metadata": {},
   "source": [
    "Load all parcellations"
   ]
  },
  {
   "cell_type": "code",
   "execution_count": null,
   "metadata": {},
   "outputs": [],
   "source": [
    "Parcels = []\n",
    "parcel_names = []\n",
    "\n",
    "fs5_dr = '/usr/local/freesurfer/subjects/fsaverage5/label/'\n",
    "Parcels.append(Existing_Surf_Individual(lh_loc = fs5_dr + 'lh.aparc.a2009s.annot',\n",
    "                                        rh_loc = fs5_dr + 'rh.aparc.a2009s.annot'))\n",
    "parcel_names.append('destr.')\n",
    "\n",
    "Parcels.append(Existing_Surf_Individual(lh_loc = fs5_dr + 'lh.aparc.annot',\n",
    "                                        rh_loc = fs5_dr + 'rh.aparc.annot'))\n",
    "parcel_names.append('desikan')\n",
    "    \n",
    "Parcels.append(Existing_Surf_Individual(lh_loc = fs5_dr + 'lh.Yeo2011_7Networks_N1000.annot',\n",
    "                                        rh_loc = fs5_dr + 'rh.Yeo2011_7Networks_N1000.annot'))\n",
    "parcel_names.append('yeo7')\n",
    "    \n",
    "Parcels.append(Existing_Surf_Individual(lh_loc = fs5_dr + 'lh.Yeo2011_17Networks_N1000.annot',\n",
    "                                        rh_loc = fs5_dr + 'rh.Yeo2011_17Networks_N1000.annot'))\n",
    "parcel_names.append('yeo17')\n",
    "\n",
    "sch_dr = '/home/sage/CBIG/stable_projects/brain_parcellation/Schaefer2018_LocalGlobal/Parcellations/FreeSurfer5.3/fsaverage5/label/'\n",
    "amts = [str(100), str(200), str(300), str(400), str(500), str(600), str(700), str(800), str(900), str(1000)]\n",
    "\n",
    "for amt in amts:\n",
    "    Parcels.append(Existing_Surf_Individual(lh_loc = sch_dr + 'lh.Schaefer2018_'+amt+'Parcels_7Networks_order.annot',\n",
    "                                            rh_loc = sch_dr + 'rh.Schaefer2018_'+amt+'Parcels_7Networks_order.annot'))\n",
    "\n",
    "    parcel_names.append('sch' + amt)\n",
    "    \n",
    "resamp_dr = '/home/sage/standard_mesh_atlases/resample_fsaverage/complete/'\n",
    "Parcels.append(Existing_Surf_Individual(lh_loc = resamp_dr + 'gordon.lh.label.gii',\n",
    "                                        rh_loc = resamp_dr + 'gordon.rh.label.gii'))\n",
    "parcel_names.append('gordon_V1')\n",
    "\n",
    "dr = '/home/sage/standard_mesh_atlases/resample_fsaverage/'\n",
    "parcs = ['arslan_res150', 'arslan_res250', 'arslan_res347', 'baldassano',\n",
    "         'fan', 'gordon333', 'gordon333dil', 'hcp-mmp', 'hcp-mmp-b',\n",
    "         'ica', 'nspn500', 'power', 'shen']\n",
    "\n",
    "for p in parcs:\n",
    "    Parcels.append(Existing_Surf_Individual(lh_loc = dr + 'lh.' + p + '.label.gii',\n",
    "                                            rh_loc = dr + 'rh.' + p + '.label.gii'))\n",
    "    parcel_names.append(p)"
   ]
  },
  {
   "cell_type": "markdown",
   "metadata": {},
   "source": [
    "Load the full training set, in which to search for a suitable pipeline, and the testing set in which to evaluate once a pipeline has been determined."
   ]
  },
  {
   "cell_type": "code",
   "execution_count": null,
   "metadata": {},
   "outputs": [],
   "source": [
    "train_data, train_targets = get_s_data('full_train')\n",
    "val_data, val_targets = get_s_data('test')"
   ]
  },
  {
   "cell_type": "code",
   "execution_count": null,
   "metadata": {},
   "outputs": [],
   "source": [
    "# results = eval_full_parcel(train_data, val_data, train_targets, val_targets, Parcels[0], VE=VE)"
   ]
  },
  {
   "cell_type": "code",
   "execution_count": null,
   "metadata": {},
   "outputs": [],
   "source": [
    "results = eval_full_parcel(train_data, val_data, train_targets, val_targets, Parcels[1], VE=VE)"
   ]
  },
  {
   "cell_type": "code",
   "execution_count": null,
   "metadata": {},
   "outputs": [],
   "source": [
    "VE.check_all()"
   ]
  },
  {
   "cell_type": "code",
   "execution_count": null,
   "metadata": {},
   "outputs": [],
   "source": [
    "# VE.collect('v_run18')"
   ]
  },
  {
   "cell_type": "code",
   "execution_count": null,
   "metadata": {},
   "outputs": [],
   "source": [
    "'''\n",
    "res = {}\n",
    "\n",
    "for i in range(36):\n",
    "    try:\n",
    "        res[i] = VE.collect('v_run' + str(i), delete=True)['0.eval']['summary_scores'][0][0]\n",
    "        \n",
    "    except:\n",
    "        pass\n",
    "    \n",
    "'''\n",
    "0"
   ]
  },
  {
   "cell_type": "code",
   "execution_count": null,
   "metadata": {},
   "outputs": [],
   "source": []
  },
  {
   "cell_type": "code",
   "execution_count": null,
   "metadata": {},
   "outputs": [],
   "source": []
  },
  {
   "cell_type": "code",
   "execution_count": null,
   "metadata": {},
   "outputs": [],
   "source": [
    "\n"
   ]
  }
 ],
 "metadata": {
  "kernelspec": {
   "display_name": "Python 3",
   "language": "python",
   "name": "python3"
  },
  "language_info": {
   "codemirror_mode": {
    "name": "ipython",
    "version": 3
   },
   "file_extension": ".py",
   "mimetype": "text/x-python",
   "name": "python",
   "nbconvert_exporter": "python",
   "pygments_lexer": "ipython3",
   "version": "3.7.4"
  }
 },
 "nbformat": 4,
 "nbformat_minor": 2
}
