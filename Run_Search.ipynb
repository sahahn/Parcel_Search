{
 "cells": [
  {
   "cell_type": "code",
   "execution_count": 1,
   "metadata": {},
   "outputs": [],
   "source": [
    "import pickle\n",
    "import time\n",
    "import numpy as np\n",
    "from Search import Search\n",
    "from util import get_models, get_data"
   ]
  },
  {
   "cell_type": "code",
   "execution_count": null,
   "metadata": {},
   "outputs": [],
   "source": [
    "n_jobs = 20\n",
    "\n",
    "models = get_models(n_jobs)\n",
    "data, targets, geo, medial_wall_inds = get_data()"
   ]
  },
  {
   "cell_type": "code",
   "execution_count": 2,
   "metadata": {},
   "outputs": [],
   "source": [
    "start = time.time()\n",
    "\n",
    "# Run\n",
    "Ev_Search = Search(save_loc = 'Runs/100gen_raw_scores',\n",
    "                   geo = geo,\n",
    "                   strategy = 'raw_scores',\n",
    "                   data = data,\n",
    "                   targets = targets,\n",
    "                   models = models,\n",
    "                   n_gens = 50,\n",
    "                   n_indv = 100,\n",
    "                   new_rand = 5,\n",
    "                   n_parcels_l = 50,\n",
    "                   n_parcels_u = 300,\n",
    "                   add_prob = .3,\n",
    "                   del_prob = .3,\n",
    "                   sz_prob = .3,\n",
    "                   medial_wall_inds = medial_wall_inds,\n",
    "                   n_jobs = n_jobs,\n",
    "                   verbose = False)\n",
    "\n",
    "Ev_Search.run()\n",
    "time.time() - start"
   ]
  },
  {
   "cell_type": "code",
   "execution_count": null,
   "metadata": {},
   "outputs": [],
   "source": []
  },
  {
   "cell_type": "code",
   "execution_count": null,
   "metadata": {},
   "outputs": [],
   "source": []
  }
 ],
 "metadata": {
  "kernelspec": {
   "display_name": "Python 3",
   "language": "python",
   "name": "python3"
  },
  "language_info": {
   "codemirror_mode": {
    "name": "ipython",
    "version": 3
   },
   "file_extension": ".py",
   "mimetype": "text/x-python",
   "name": "python",
   "nbconvert_exporter": "python",
   "pygments_lexer": "ipython3",
   "version": "3.7.4"
  }
 },
 "nbformat": 4,
 "nbformat_minor": 2
}
